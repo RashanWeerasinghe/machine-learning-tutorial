{
 "cells": [
  {
   "cell_type": "code",
   "execution_count": 1,
   "id": "de65250b",
   "metadata": {},
   "outputs": [],
   "source": [
    "import cv2\n",
    "import numpy as np\n",
    "from matplotlib import pyplot as plot"
   ]
  },
  {
   "cell_type": "code",
   "execution_count": 2,
   "id": "6da44bd6",
   "metadata": {},
   "outputs": [],
   "source": [
    "image=cv2.imread('sources/chaplin.png')\n"
   ]
  },
  {
   "cell_type": "code",
   "execution_count": 3,
   "id": "5b36db54",
   "metadata": {},
   "outputs": [
    {
     "data": {
      "text/plain": [
       "array([[[ 23,  23,  23],\n",
       "        [ 24,  24,  24],\n",
       "        [ 25,  25,  25],\n",
       "        ...,\n",
       "        [ 37,  37,  37],\n",
       "        [ 13,  13,  13],\n",
       "        [ 36,  36,  36]],\n",
       "\n",
       "       [[ 24,  24,  24],\n",
       "        [ 26,  26,  26],\n",
       "        [ 27,  27,  27],\n",
       "        ...,\n",
       "        [ 16,  16,  16],\n",
       "        [ 26,  26,  26],\n",
       "        [ 21,  21,  21]],\n",
       "\n",
       "       [[ 25,  25,  25],\n",
       "        [ 27,  27,  27],\n",
       "        [ 28,  28,  28],\n",
       "        ...,\n",
       "        [ 28,  28,  28],\n",
       "        [ 40,  40,  40],\n",
       "        [ 25,  25,  25]],\n",
       "\n",
       "       ...,\n",
       "\n",
       "       [[ 48,  48,  48],\n",
       "        [ 51,  51,  51],\n",
       "        [ 46,  46,  46],\n",
       "        ...,\n",
       "        [247, 247, 247],\n",
       "        [249, 249, 249],\n",
       "        [250, 250, 250]],\n",
       "\n",
       "       [[ 50,  50,  50],\n",
       "        [ 53,  53,  53],\n",
       "        [ 48,  48,  48],\n",
       "        ...,\n",
       "        [247, 247, 247],\n",
       "        [249, 249, 249],\n",
       "        [250, 250, 250]],\n",
       "\n",
       "       [[ 52,  52,  52],\n",
       "        [ 55,  55,  55],\n",
       "        [ 50,  50,  50],\n",
       "        ...,\n",
       "        [247, 247, 247],\n",
       "        [249, 249, 249],\n",
       "        [250, 250, 250]]], dtype=uint8)"
      ]
     },
     "execution_count": 3,
     "metadata": {},
     "output_type": "execute_result"
    }
   ],
   "source": [
    "image"
   ]
  },
  {
   "cell_type": "code",
   "execution_count": 4,
   "id": "9aaf444e",
   "metadata": {},
   "outputs": [
    {
     "data": {
      "text/plain": [
       "(619, 512, 3)"
      ]
     },
     "execution_count": 4,
     "metadata": {},
     "output_type": "execute_result"
    }
   ],
   "source": [
    "image.shape"
   ]
  },
  {
   "cell_type": "code",
   "execution_count": 5,
   "id": "e13264f9",
   "metadata": {},
   "outputs": [
    {
     "data": {
      "text/plain": [
       "array([23, 23, 23], dtype=uint8)"
      ]
     },
     "execution_count": 5,
     "metadata": {},
     "output_type": "execute_result"
    }
   ],
   "source": [
    "image[0][0]"
   ]
  },
  {
   "cell_type": "code",
   "execution_count": 7,
   "id": "03ed755f",
   "metadata": {},
   "outputs": [
    {
     "ename": "AttributeError",
     "evalue": "module 'cv2' has no attribute 'destroyWindows'",
     "output_type": "error",
     "traceback": [
      "\u001b[1;31m---------------------------------------------------------------------------\u001b[0m",
      "\u001b[1;31mAttributeError\u001b[0m                            Traceback (most recent call last)",
      "Cell \u001b[1;32mIn[7], line 3\u001b[0m\n\u001b[0;32m      1\u001b[0m cv2\u001b[38;5;241m.\u001b[39mimshow(\u001b[38;5;124m'\u001b[39m\u001b[38;5;124mLIVE\u001b[39m\u001b[38;5;124m'\u001b[39m,image)\n\u001b[0;32m      2\u001b[0m cv2\u001b[38;5;241m.\u001b[39mwaitKey(\u001b[38;5;241m0\u001b[39m)\n\u001b[1;32m----> 3\u001b[0m \u001b[43mcv2\u001b[49m\u001b[38;5;241;43m.\u001b[39;49m\u001b[43mdestroyWindows\u001b[49m(\u001b[38;5;124m'\u001b[39m\u001b[38;5;124mLIVE\u001b[39m\u001b[38;5;124m'\u001b[39m)\n",
      "\u001b[1;31mAttributeError\u001b[0m: module 'cv2' has no attribute 'destroyWindows'"
     ]
    }
   ],
   "source": [
    "cv2.imshow('LIVE',image)\n",
    "cv2.waitKey(0)\n",
    "cv2.destroyWindow(\"LIVE\")"
   ]
  },
  {
   "cell_type": "code",
   "execution_count": null,
   "id": "dab2904d",
   "metadata": {},
   "outputs": [],
   "source": []
  }
 ],
 "metadata": {
  "kernelspec": {
   "display_name": "Python 3 (ipykernel)",
   "language": "python",
   "name": "python3"
  },
  "language_info": {
   "codemirror_mode": {
    "name": "ipython",
    "version": 3
   },
   "file_extension": ".py",
   "mimetype": "text/x-python",
   "name": "python",
   "nbconvert_exporter": "python",
   "pygments_lexer": "ipython3",
   "version": "3.10.9"
  }
 },
 "nbformat": 4,
 "nbformat_minor": 5
}
